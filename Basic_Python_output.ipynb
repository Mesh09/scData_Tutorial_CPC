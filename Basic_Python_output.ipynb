{
 "cells": [
  {
   "cell_type": "code",
   "execution_count": null,
   "id": "51a9e286",
   "metadata": {},
   "outputs": [],
   "source": [
    "## This is a Code cell\n"
   ]
  },
  {
   "cell_type": "markdown",
   "id": "06d07444",
   "metadata": {},
   "source": [
    "## This is a Markdown Cell"
   ]
  },
  {
   "cell_type": "markdown",
   "id": "9f3e63cb",
   "metadata": {},
   "source": [
    "### It looks like this after Running"
   ]
  },
  {
   "cell_type": "code",
   "execution_count": null,
   "id": "292e294e",
   "metadata": {},
   "outputs": [],
   "source": [
    "print(\"Hello World\")"
   ]
  },
  {
   "cell_type": "code",
   "execution_count": 1,
   "id": "984966d5",
   "metadata": {},
   "outputs": [
    {
     "name": "stdout",
     "output_type": "stream",
     "text": [
      "Hello World\n"
     ]
    }
   ],
   "source": [
    "print(\"Hello World\")"
   ]
  },
  {
   "cell_type": "code",
   "execution_count": 2,
   "id": "f39289a4",
   "metadata": {},
   "outputs": [],
   "source": [
    "import time\n",
    "time.sleep(10)"
   ]
  },
  {
   "cell_type": "markdown",
   "id": "b8960a57",
   "metadata": {},
   "source": [
    "### Basic Data Types\n",
    "1) String"
   ]
  },
  {
   "cell_type": "code",
   "execution_count": 3,
   "id": "e591575d",
   "metadata": {},
   "outputs": [
    {
     "data": {
      "text/plain": [
       "'python'"
      ]
     },
     "execution_count": 3,
     "metadata": {},
     "output_type": "execute_result"
    }
   ],
   "source": [
    "word = \"python\"\n",
    "word"
   ]
  },
  {
   "cell_type": "code",
   "execution_count": 4,
   "id": "57e8847c",
   "metadata": {},
   "outputs": [
    {
     "name": "stdout",
     "output_type": "stream",
     "text": [
      "The length of python is 6\n"
     ]
    }
   ],
   "source": [
    "var = len(word)      ## len() is a function that returns the length of the variable\n",
    "print(f\"The length of {word} is {var}\")"
   ]
  },
  {
   "cell_type": "markdown",
   "id": "4f458dbe",
   "metadata": {},
   "source": [
    "2) Integer / Float"
   ]
  },
  {
   "cell_type": "code",
   "execution_count": 5,
   "id": "856dd28a",
   "metadata": {},
   "outputs": [
    {
     "data": {
      "text/plain": [
       "70.0"
      ]
     },
     "execution_count": 5,
     "metadata": {},
     "output_type": "execute_result"
    }
   ],
   "source": [
    "price = 100\n",
    "discount = 0.3\n",
    "result = price * (1 - discount)\n",
    "result"
   ]
  },
  {
   "cell_type": "markdown",
   "id": "309b313f",
   "metadata": {},
   "source": [
    "3) List [ ]"
   ]
  },
  {
   "cell_type": "code",
   "execution_count": 6,
   "id": "bb163f0b",
   "metadata": {},
   "outputs": [
    {
     "data": {
      "text/plain": [
       "['Ahmed', 'Yuexin', 'Janine', 'Lin', 'Anna']"
      ]
     },
     "execution_count": 6,
     "metadata": {},
     "output_type": "execute_result"
    }
   ],
   "source": [
    "lab_members = [\"Ahmed\", \"Yuexin\", \"Janine\", \"Lin\", \"Anna\"]\n",
    "lab_members"
   ]
  },
  {
   "cell_type": "code",
   "execution_count": 7,
   "id": "f0ae3dc1",
   "metadata": {},
   "outputs": [
    {
     "name": "stdout",
     "output_type": "stream",
     "text": [
      "Ahmed\n",
      "['Yuexin', 'Janine']\n"
     ]
    }
   ],
   "source": [
    "print(lab_members[0])\n",
    "print(lab_members[1:3])"
   ]
  },
  {
   "cell_type": "code",
   "execution_count": 8,
   "id": "23383063",
   "metadata": {},
   "outputs": [
    {
     "name": "stdout",
     "output_type": "stream",
     "text": [
      "Hey Ahmed\n",
      "Hey Yuexin\n",
      "Hey Janine\n",
      "Hey Lin\n",
      "Hey Anna\n"
     ]
    }
   ],
   "source": [
    "## Use For Loop to iterate through list entries\n",
    "for i in lab_members:\n",
    "    print(f\"Hey {i}\")"
   ]
  },
  {
   "cell_type": "code",
   "execution_count": 9,
   "id": "58bd5a3c",
   "metadata": {},
   "outputs": [
    {
     "name": "stdout",
     "output_type": "stream",
     "text": [
      "Ahmed has an e in his name\n",
      "Yuexin has an e in his name\n",
      "Janine has an e in his name\n",
      "Lin does not\n",
      "Anna does not\n"
     ]
    }
   ],
   "source": [
    "## Can be combined with conditions\n",
    "substring = \"e\"\n",
    "for member in lab_members:\n",
    "    if substring in member:\n",
    "        print(f\"{member} has an {substring} in his name\")\n",
    "    else:\n",
    "        print(f\"{member} does not\")"
   ]
  },
  {
   "cell_type": "markdown",
   "id": "2f35e4a2",
   "metadata": {},
   "source": [
    "4) Dictionaries { }"
   ]
  },
  {
   "cell_type": "code",
   "execution_count": 10,
   "id": "4900d4b6",
   "metadata": {},
   "outputs": [
    {
     "data": {
      "text/plain": [
       "'Chen'"
      ]
     },
     "execution_count": 10,
     "metadata": {},
     "output_type": "execute_result"
    }
   ],
   "source": [
    "## Define Dictionary by {key_1: value_1, key_2: value_2, ...}\n",
    "surnames = {\"Ahmed\": \"Hassan\", \"Yuexin\": \"Chen\", \"Janine\": \"Schniering\", \"Lin\": \"Yang\", \"Anna\": \"Semenova\"}\n",
    "\n",
    "## Access value by e.g. [key_2]\n",
    "surnames[\"Yuexin\"]"
   ]
  },
  {
   "cell_type": "code",
   "execution_count": 11,
   "id": "bc1ea87f",
   "metadata": {},
   "outputs": [
    {
     "name": "stdout",
     "output_type": "stream",
     "text": [
      "Key: Ahmed \tValue: Hassan\n",
      "Key: Yuexin \tValue: Chen\n",
      "Key: Janine \tValue: Schniering\n",
      "Key: Lin \tValue: Yang\n",
      "Key: Anna \tValue: Semenova\n"
     ]
    }
   ],
   "source": [
    "## use \\t in print to generate tab space\n",
    "for key in surnames.keys():\n",
    "    print(f\"Key: {key} \\tValue: {surnames[key]}\")"
   ]
  },
  {
   "cell_type": "markdown",
   "id": "661fd6a2",
   "metadata": {},
   "source": [
    "5) Functions"
   ]
  },
  {
   "cell_type": "code",
   "execution_count": 12,
   "id": "0c620d68",
   "metadata": {},
   "outputs": [
    {
     "name": "stdout",
     "output_type": "stream",
     "text": [
      "Key: Ahmed \tValue: Hassan\n",
      "Key: Yuexin \tValue: Chen\n",
      "Key: Janine \tValue: Schniering\n",
      "Key: Lin \tValue: Yang\n",
      "Key: Anna \tValue: Semenova\n"
     ]
    }
   ],
   "source": [
    "## Define the Function\n",
    "def print_names(input_dict):\n",
    "    for key in input_dict.keys():\n",
    "        print(f\"Key: {key} \\tValue: {surnames[key]}\")\n",
    "    \n",
    "## Execute the Function\n",
    "print_names(surnames)"
   ]
  },
  {
   "cell_type": "markdown",
   "id": "a218e962",
   "metadata": {},
   "source": [
    "### Import Packages"
   ]
  },
  {
   "cell_type": "code",
   "execution_count": 13,
   "id": "0903f745",
   "metadata": {},
   "outputs": [],
   "source": [
    "import pandas as pd\n",
    "import numpy as np\n",
    "import matplotlib.pyplot as plt\n",
    "import scanpy as sc"
   ]
  },
  {
   "cell_type": "markdown",
   "id": "b47f7ef5",
   "metadata": {},
   "source": [
    "### Read in data tables with library pandas"
   ]
  },
  {
   "cell_type": "code",
   "execution_count": 15,
   "id": "05e9079d",
   "metadata": {},
   "outputs": [
    {
     "data": {
      "text/html": [
       "<div>\n",
       "<style scoped>\n",
       "    .dataframe tbody tr th:only-of-type {\n",
       "        vertical-align: middle;\n",
       "    }\n",
       "\n",
       "    .dataframe tbody tr th {\n",
       "        vertical-align: top;\n",
       "    }\n",
       "\n",
       "    .dataframe thead th {\n",
       "        text-align: right;\n",
       "    }\n",
       "</style>\n",
       "<table border=\"1\" class=\"dataframe\">\n",
       "  <thead>\n",
       "    <tr style=\"text-align: right;\">\n",
       "      <th></th>\n",
       "      <th>identifier</th>\n",
       "      <th>name</th>\n",
       "      <th>batch</th>\n",
       "      <th>age</th>\n",
       "      <th>cells</th>\n",
       "      <th>data_set</th>\n",
       "    </tr>\n",
       "  </thead>\n",
       "  <tbody>\n",
       "    <tr>\n",
       "      <th>0</th>\n",
       "      <td>muc3838</td>\n",
       "      <td>Aging mouse 1 Male</td>\n",
       "      <td>pilot</td>\n",
       "      <td>24m</td>\n",
       "      <td>800</td>\n",
       "      <td>aged_mice</td>\n",
       "    </tr>\n",
       "    <tr>\n",
       "      <th>1</th>\n",
       "      <td>muc3839</td>\n",
       "      <td>Aging mouse 2 Male</td>\n",
       "      <td>pilot</td>\n",
       "      <td>24m</td>\n",
       "      <td>500</td>\n",
       "      <td>aged_mice</td>\n",
       "    </tr>\n",
       "    <tr>\n",
       "      <th>2</th>\n",
       "      <td>muc3840</td>\n",
       "      <td>Aging PBS Ctrl day 14</td>\n",
       "      <td>pilot</td>\n",
       "      <td>3m</td>\n",
       "      <td>500</td>\n",
       "      <td>aged_mice</td>\n",
       "    </tr>\n",
       "    <tr>\n",
       "      <th>3</th>\n",
       "      <td>muc3841</td>\n",
       "      <td>Aging PBS Ctrl 2 day 21</td>\n",
       "      <td>pilot</td>\n",
       "      <td>3m</td>\n",
       "      <td>500</td>\n",
       "      <td>aged_mice</td>\n",
       "    </tr>\n",
       "    <tr>\n",
       "      <th>4</th>\n",
       "      <td>muc4166</td>\n",
       "      <td>Aging mouse 3 Male</td>\n",
       "      <td>aging</td>\n",
       "      <td>24m</td>\n",
       "      <td>1000</td>\n",
       "      <td>aged_mice</td>\n",
       "    </tr>\n",
       "    <tr>\n",
       "      <th>5</th>\n",
       "      <td>muc4167</td>\n",
       "      <td>Aging mouse 4 Male</td>\n",
       "      <td>aging</td>\n",
       "      <td>3m</td>\n",
       "      <td>1000</td>\n",
       "      <td>aged_mice</td>\n",
       "    </tr>\n",
       "    <tr>\n",
       "      <th>6</th>\n",
       "      <td>muc4168</td>\n",
       "      <td>Aging mouse 5 Female</td>\n",
       "      <td>aging</td>\n",
       "      <td>24m</td>\n",
       "      <td>1000</td>\n",
       "      <td>aged_mice</td>\n",
       "    </tr>\n",
       "    <tr>\n",
       "      <th>7</th>\n",
       "      <td>muc4169</td>\n",
       "      <td>ctrl PBS day 14</td>\n",
       "      <td>aging</td>\n",
       "      <td>3m</td>\n",
       "      <td>1000</td>\n",
       "      <td>aged_mice</td>\n",
       "    </tr>\n",
       "    <tr>\n",
       "      <th>8</th>\n",
       "      <td>muc4170</td>\n",
       "      <td>ctrl PBS day 21</td>\n",
       "      <td>aging</td>\n",
       "      <td>3m</td>\n",
       "      <td>1000</td>\n",
       "      <td>aged_mice</td>\n",
       "    </tr>\n",
       "    <tr>\n",
       "      <th>9</th>\n",
       "      <td>muc4172</td>\n",
       "      <td>PBS ctrl day 10_1</td>\n",
       "      <td>aging</td>\n",
       "      <td>3m</td>\n",
       "      <td>1000</td>\n",
       "      <td>aged_mice</td>\n",
       "    </tr>\n",
       "    <tr>\n",
       "      <th>10</th>\n",
       "      <td>muc4173</td>\n",
       "      <td>PBS ctrl day 10_2</td>\n",
       "      <td>aging</td>\n",
       "      <td>3m</td>\n",
       "      <td>1000</td>\n",
       "      <td>aged_mice</td>\n",
       "    </tr>\n",
       "    <tr>\n",
       "      <th>11</th>\n",
       "      <td>muc4174</td>\n",
       "      <td>Aging 6 Female</td>\n",
       "      <td>aging</td>\n",
       "      <td>24m</td>\n",
       "      <td>1000</td>\n",
       "      <td>aged_mice</td>\n",
       "    </tr>\n",
       "    <tr>\n",
       "      <th>12</th>\n",
       "      <td>muc4175</td>\n",
       "      <td>Aging 7 Female</td>\n",
       "      <td>aging</td>\n",
       "      <td>24m</td>\n",
       "      <td>1000</td>\n",
       "      <td>aged_mice</td>\n",
       "    </tr>\n",
       "  </tbody>\n",
       "</table>\n",
       "</div>"
      ],
      "text/plain": [
       "   identifier                     name  batch  age  cells   data_set\n",
       "0     muc3838       Aging mouse 1 Male  pilot  24m    800  aged_mice\n",
       "1     muc3839       Aging mouse 2 Male  pilot  24m    500  aged_mice\n",
       "2     muc3840    Aging PBS Ctrl day 14  pilot   3m    500  aged_mice\n",
       "3     muc3841  Aging PBS Ctrl 2 day 21  pilot   3m    500  aged_mice\n",
       "4     muc4166       Aging mouse 3 Male  aging  24m   1000  aged_mice\n",
       "5     muc4167       Aging mouse 4 Male  aging   3m   1000  aged_mice\n",
       "6     muc4168     Aging mouse 5 Female  aging  24m   1000  aged_mice\n",
       "7     muc4169          ctrl PBS day 14  aging   3m   1000  aged_mice\n",
       "8     muc4170          ctrl PBS day 21  aging   3m   1000  aged_mice\n",
       "9     muc4172        PBS ctrl day 10_1  aging   3m   1000  aged_mice\n",
       "10    muc4173        PBS ctrl day 10_2  aging   3m   1000  aged_mice\n",
       "11    muc4174           Aging 6 Female  aging  24m   1000  aged_mice\n",
       "12    muc4175           Aging 7 Female  aging  24m   1000  aged_mice"
      ]
     },
     "execution_count": 15,
     "metadata": {},
     "output_type": "execute_result"
    }
   ],
   "source": [
    "folder = \"Data/\"\n",
    "tab = pd.read_csv(folder + \"aged_mice_samples.txt\", sep = \"\\t\")\n",
    "tab"
   ]
  },
  {
   "cell_type": "code",
   "execution_count": 16,
   "id": "e1c219bd",
   "metadata": {},
   "outputs": [
    {
     "data": {
      "text/plain": [
       "identifier    object\n",
       "name          object\n",
       "batch         object\n",
       "age           object\n",
       "cells          int64\n",
       "data_set      object\n",
       "dtype: object"
      ]
     },
     "execution_count": 16,
     "metadata": {},
     "output_type": "execute_result"
    }
   ],
   "source": [
    "## Get an overview of columns and the data types stored in them\n",
    "tab.dtypes"
   ]
  },
  {
   "cell_type": "code",
   "execution_count": 17,
   "id": "26de88bb",
   "metadata": {},
   "outputs": [
    {
     "data": {
      "text/plain": [
       "3m     7\n",
       "24m    6\n",
       "Name: age, dtype: int64"
      ]
     },
     "execution_count": 17,
     "metadata": {},
     "output_type": "execute_result"
    }
   ],
   "source": [
    "## Get overview of numbers per group in a given column, e.g. age\n",
    "## you can access the column by its name using .loc[:, \"name_of_column\"]\n",
    "tab.loc[:, \"age\"].value_counts()"
   ]
  },
  {
   "cell_type": "code",
   "execution_count": 18,
   "id": "1b4f6caa",
   "metadata": {},
   "outputs": [
    {
     "name": "stdout",
     "output_type": "stream",
     "text": [
      "869.2307692307693\n",
      "11300\n"
     ]
    }
   ],
   "source": [
    "## You can also get quick summary statistics for numerical columns\n",
    "print(tab.loc[:, \"cells\"].mean())\n",
    "print(tab.loc[:, \"cells\"].sum())"
   ]
  },
  {
   "cell_type": "code",
   "execution_count": 19,
   "id": "5ea908fa",
   "metadata": {},
   "outputs": [
    {
     "data": {
      "text/html": [
       "<div>\n",
       "<style scoped>\n",
       "    .dataframe tbody tr th:only-of-type {\n",
       "        vertical-align: middle;\n",
       "    }\n",
       "\n",
       "    .dataframe tbody tr th {\n",
       "        vertical-align: top;\n",
       "    }\n",
       "\n",
       "    .dataframe thead th {\n",
       "        text-align: right;\n",
       "    }\n",
       "</style>\n",
       "<table border=\"1\" class=\"dataframe\">\n",
       "  <thead>\n",
       "    <tr style=\"text-align: right;\">\n",
       "      <th></th>\n",
       "      <th>age</th>\n",
       "    </tr>\n",
       "  </thead>\n",
       "  <tbody>\n",
       "    <tr>\n",
       "      <th>0</th>\n",
       "      <td>24m</td>\n",
       "    </tr>\n",
       "    <tr>\n",
       "      <th>1</th>\n",
       "      <td>24m</td>\n",
       "    </tr>\n",
       "    <tr>\n",
       "      <th>2</th>\n",
       "      <td>3m</td>\n",
       "    </tr>\n",
       "    <tr>\n",
       "      <th>3</th>\n",
       "      <td>3m</td>\n",
       "    </tr>\n",
       "    <tr>\n",
       "      <th>4</th>\n",
       "      <td>24m</td>\n",
       "    </tr>\n",
       "    <tr>\n",
       "      <th>5</th>\n",
       "      <td>3m</td>\n",
       "    </tr>\n",
       "    <tr>\n",
       "      <th>6</th>\n",
       "      <td>24m</td>\n",
       "    </tr>\n",
       "    <tr>\n",
       "      <th>7</th>\n",
       "      <td>3m</td>\n",
       "    </tr>\n",
       "    <tr>\n",
       "      <th>8</th>\n",
       "      <td>3m</td>\n",
       "    </tr>\n",
       "    <tr>\n",
       "      <th>9</th>\n",
       "      <td>3m</td>\n",
       "    </tr>\n",
       "    <tr>\n",
       "      <th>10</th>\n",
       "      <td>3m</td>\n",
       "    </tr>\n",
       "    <tr>\n",
       "      <th>11</th>\n",
       "      <td>24m</td>\n",
       "    </tr>\n",
       "    <tr>\n",
       "      <th>12</th>\n",
       "      <td>24m</td>\n",
       "    </tr>\n",
       "  </tbody>\n",
       "</table>\n",
       "</div>"
      ],
      "text/plain": [
       "    age\n",
       "0   24m\n",
       "1   24m\n",
       "2    3m\n",
       "3    3m\n",
       "4   24m\n",
       "5    3m\n",
       "6   24m\n",
       "7    3m\n",
       "8    3m\n",
       "9    3m\n",
       "10   3m\n",
       "11  24m\n",
       "12  24m"
      ]
     },
     "execution_count": 19,
     "metadata": {},
     "output_type": "execute_result"
    }
   ],
   "source": [
    "## You can also access columns by their index using .iloc\n",
    "tab.iloc[:, [3]]"
   ]
  },
  {
   "cell_type": "code",
   "execution_count": 20,
   "id": "111c3708",
   "metadata": {},
   "outputs": [
    {
     "data": {
      "text/html": [
       "<div>\n",
       "<style scoped>\n",
       "    .dataframe tbody tr th:only-of-type {\n",
       "        vertical-align: middle;\n",
       "    }\n",
       "\n",
       "    .dataframe tbody tr th {\n",
       "        vertical-align: top;\n",
       "    }\n",
       "\n",
       "    .dataframe thead th {\n",
       "        text-align: right;\n",
       "    }\n",
       "</style>\n",
       "<table border=\"1\" class=\"dataframe\">\n",
       "  <thead>\n",
       "    <tr style=\"text-align: right;\">\n",
       "      <th></th>\n",
       "      <th>identifier</th>\n",
       "      <th>name</th>\n",
       "      <th>batch</th>\n",
       "      <th>age</th>\n",
       "      <th>cells</th>\n",
       "      <th>data_set</th>\n",
       "    </tr>\n",
       "  </thead>\n",
       "  <tbody>\n",
       "    <tr>\n",
       "      <th>2</th>\n",
       "      <td>muc3840</td>\n",
       "      <td>Aging PBS Ctrl day 14</td>\n",
       "      <td>pilot</td>\n",
       "      <td>3m</td>\n",
       "      <td>500</td>\n",
       "      <td>aged_mice</td>\n",
       "    </tr>\n",
       "    <tr>\n",
       "      <th>3</th>\n",
       "      <td>muc3841</td>\n",
       "      <td>Aging PBS Ctrl 2 day 21</td>\n",
       "      <td>pilot</td>\n",
       "      <td>3m</td>\n",
       "      <td>500</td>\n",
       "      <td>aged_mice</td>\n",
       "    </tr>\n",
       "    <tr>\n",
       "      <th>5</th>\n",
       "      <td>muc4167</td>\n",
       "      <td>Aging mouse 4 Male</td>\n",
       "      <td>aging</td>\n",
       "      <td>3m</td>\n",
       "      <td>1000</td>\n",
       "      <td>aged_mice</td>\n",
       "    </tr>\n",
       "    <tr>\n",
       "      <th>7</th>\n",
       "      <td>muc4169</td>\n",
       "      <td>ctrl PBS day 14</td>\n",
       "      <td>aging</td>\n",
       "      <td>3m</td>\n",
       "      <td>1000</td>\n",
       "      <td>aged_mice</td>\n",
       "    </tr>\n",
       "  </tbody>\n",
       "</table>\n",
       "</div>"
      ],
      "text/plain": [
       "  identifier                     name  batch age  cells   data_set\n",
       "2    muc3840    Aging PBS Ctrl day 14  pilot  3m    500  aged_mice\n",
       "3    muc3841  Aging PBS Ctrl 2 day 21  pilot  3m    500  aged_mice\n",
       "5    muc4167       Aging mouse 4 Male  aging  3m   1000  aged_mice\n",
       "7    muc4169          ctrl PBS day 14  aging  3m   1000  aged_mice"
      ]
     },
     "execution_count": 20,
     "metadata": {},
     "output_type": "execute_result"
    }
   ],
   "source": [
    "## Same for rows, you can add multiple indexes in the list\n",
    "tab.iloc[[2, 3, 5, 7]]"
   ]
  },
  {
   "cell_type": "code",
   "execution_count": 21,
   "id": "cf42674f",
   "metadata": {},
   "outputs": [
    {
     "data": {
      "text/html": [
       "<div>\n",
       "<style scoped>\n",
       "    .dataframe tbody tr th:only-of-type {\n",
       "        vertical-align: middle;\n",
       "    }\n",
       "\n",
       "    .dataframe tbody tr th {\n",
       "        vertical-align: top;\n",
       "    }\n",
       "\n",
       "    .dataframe thead th {\n",
       "        text-align: right;\n",
       "    }\n",
       "</style>\n",
       "<table border=\"1\" class=\"dataframe\">\n",
       "  <thead>\n",
       "    <tr style=\"text-align: right;\">\n",
       "      <th></th>\n",
       "      <th>identifier</th>\n",
       "      <th>name</th>\n",
       "      <th>batch</th>\n",
       "      <th>age</th>\n",
       "    </tr>\n",
       "  </thead>\n",
       "  <tbody>\n",
       "    <tr>\n",
       "      <th>2</th>\n",
       "      <td>muc3840</td>\n",
       "      <td>Aging PBS Ctrl day 14</td>\n",
       "      <td>pilot</td>\n",
       "      <td>3m</td>\n",
       "    </tr>\n",
       "    <tr>\n",
       "      <th>3</th>\n",
       "      <td>muc3841</td>\n",
       "      <td>Aging PBS Ctrl 2 day 21</td>\n",
       "      <td>pilot</td>\n",
       "      <td>3m</td>\n",
       "    </tr>\n",
       "    <tr>\n",
       "      <th>4</th>\n",
       "      <td>muc4166</td>\n",
       "      <td>Aging mouse 3 Male</td>\n",
       "      <td>aging</td>\n",
       "      <td>24m</td>\n",
       "    </tr>\n",
       "    <tr>\n",
       "      <th>5</th>\n",
       "      <td>muc4167</td>\n",
       "      <td>Aging mouse 4 Male</td>\n",
       "      <td>aging</td>\n",
       "      <td>3m</td>\n",
       "    </tr>\n",
       "  </tbody>\n",
       "</table>\n",
       "</div>"
      ],
      "text/plain": [
       "  identifier                     name  batch  age\n",
       "2    muc3840    Aging PBS Ctrl day 14  pilot   3m\n",
       "3    muc3841  Aging PBS Ctrl 2 day 21  pilot   3m\n",
       "4    muc4166       Aging mouse 3 Male  aging  24m\n",
       "5    muc4167       Aging mouse 4 Male  aging   3m"
      ]
     },
     "execution_count": 21,
     "metadata": {},
     "output_type": "execute_result"
    }
   ],
   "source": [
    "## Or a range with \":\", in the example below you see rows 2, 3, 4 and columns 0, 1, 2, 3\n",
    "tab.iloc[2:6, 0:4]"
   ]
  },
  {
   "cell_type": "code",
   "execution_count": null,
   "id": "32eddaab",
   "metadata": {},
   "outputs": [],
   "source": []
  },
  {
   "cell_type": "code",
   "execution_count": null,
   "id": "ddcc0e7c",
   "metadata": {},
   "outputs": [],
   "source": []
  }
 ],
 "metadata": {
  "kernelspec": {
   "display_name": "Python 3 (ipykernel)",
   "language": "python",
   "name": "python3"
  },
  "language_info": {
   "codemirror_mode": {
    "name": "ipython",
    "version": 3
   },
   "file_extension": ".py",
   "mimetype": "text/x-python",
   "name": "python",
   "nbconvert_exporter": "python",
   "pygments_lexer": "ipython3",
   "version": "3.8.10"
  }
 },
 "nbformat": 4,
 "nbformat_minor": 5
}
