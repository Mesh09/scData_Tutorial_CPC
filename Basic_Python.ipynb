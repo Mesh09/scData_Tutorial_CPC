{
 "cells": [
  {
   "cell_type": "code",
   "execution_count": null,
   "id": "51a9e286",
   "metadata": {},
   "outputs": [],
   "source": [
    "## This is a Code cell\n"
   ]
  },
  {
   "cell_type": "markdown",
   "id": "06d07444",
   "metadata": {},
   "source": [
    "## This is a Markdown Cell"
   ]
  },
  {
   "cell_type": "markdown",
   "id": "9f3e63cb",
   "metadata": {},
   "source": [
    "### It looks like this after Running"
   ]
  },
  {
   "cell_type": "code",
   "execution_count": null,
   "id": "292e294e",
   "metadata": {},
   "outputs": [],
   "source": [
    "print(\"Hello World\")"
   ]
  },
  {
   "cell_type": "code",
   "execution_count": null,
   "id": "f39289a4",
   "metadata": {},
   "outputs": [],
   "source": [
    "import time\n",
    "time.sleep(10)"
   ]
  },
  {
   "cell_type": "markdown",
   "id": "b8960a57",
   "metadata": {},
   "source": [
    "### Basic Data Types\n",
    "1) String"
   ]
  },
  {
   "cell_type": "code",
   "execution_count": null,
   "id": "e591575d",
   "metadata": {},
   "outputs": [],
   "source": [
    "word = \"python\"\n",
    "word"
   ]
  },
  {
   "cell_type": "code",
   "execution_count": null,
   "id": "57e8847c",
   "metadata": {},
   "outputs": [],
   "source": [
    "var = len(word)      ## len() is a function that returns the length of the variable\n",
    "print(f\"The length of {word} is {var}\")"
   ]
  },
  {
   "cell_type": "markdown",
   "id": "4f458dbe",
   "metadata": {},
   "source": [
    "2) Integer / Float"
   ]
  },
  {
   "cell_type": "code",
   "execution_count": null,
   "id": "856dd28a",
   "metadata": {},
   "outputs": [],
   "source": [
    "price = 100\n",
    "discount = 0.3\n",
    "result = price * (1 - discount)\n",
    "result"
   ]
  },
  {
   "cell_type": "markdown",
   "id": "309b313f",
   "metadata": {},
   "source": [
    "3) List [ ]"
   ]
  },
  {
   "cell_type": "code",
   "execution_count": null,
   "id": "bb163f0b",
   "metadata": {},
   "outputs": [],
   "source": [
    "lab_members = [\"Ahmed\", \"Yuexin\", \"Janine\", \"Lin\", \"Anna\"]\n",
    "lab_members"
   ]
  },
  {
   "cell_type": "code",
   "execution_count": null,
   "id": "f0ae3dc1",
   "metadata": {},
   "outputs": [],
   "source": [
    "print(lab_members[0])\n",
    "print(lab_members[1:3])"
   ]
  },
  {
   "cell_type": "code",
   "execution_count": null,
   "id": "23383063",
   "metadata": {},
   "outputs": [],
   "source": [
    "## Use For Loop to iterate through list entries\n",
    "for i in lab_members:\n",
    "    print(f\"Hey {i}\" )"
   ]
  },
  {
   "cell_type": "code",
   "execution_count": null,
   "id": "58bd5a3c",
   "metadata": {},
   "outputs": [],
   "source": [
    "## Can be combined with conditions\n",
    "substring = \"e\"\n",
    "for member in lab_members:\n",
    "    if substring in member:\n",
    "        print(f\"{member} has an {substring} in his name\")\n",
    "    else:\n",
    "        print(f\"{member} does not\")"
   ]
  },
  {
   "cell_type": "markdown",
   "id": "2f35e4a2",
   "metadata": {},
   "source": [
    "4) Dictionaries { }"
   ]
  },
  {
   "cell_type": "code",
   "execution_count": null,
   "id": "4900d4b6",
   "metadata": {},
   "outputs": [],
   "source": [
    "## Define Dictionary by {key_1: value_1, key_2: value_2, ...}\n",
    "surnames = {\"Ahmed\": \"Hassan\", \"Yuexin\": \"Chen\", \"Janine\": \"Schniering\", \"Lin\": \"Yang\", \"Anna\": \"Semenova\"}\n",
    "\n",
    "## Access value by e.g. [key_2]\n",
    "surnames[\"Yuexin\"]"
   ]
  },
  {
   "cell_type": "code",
   "execution_count": null,
   "id": "bc1ea87f",
   "metadata": {},
   "outputs": [],
   "source": [
    "## use \\t in print to generate tab space\n",
    "for key in surnames.keys():\n",
    "    print(f\"Key: {key} \\tValue: {surnames[key]}\")"
   ]
  },
  {
   "cell_type": "markdown",
   "id": "661fd6a2",
   "metadata": {},
   "source": [
    "5) Functions"
   ]
  },
  {
   "cell_type": "code",
   "execution_count": null,
   "id": "0c620d68",
   "metadata": {},
   "outputs": [],
   "source": [
    "## Define the Function\n",
    "def print_names(input_dict):\n",
    "    for key in input_dict.keys():\n",
    "        print(f\"Key: {key} \\tValue: {surnames[key]}\")\n",
    "    \n",
    "## Execute the Function\n",
    "print_names(surnames)"
   ]
  },
  {
   "cell_type": "markdown",
   "id": "a218e962",
   "metadata": {},
   "source": [
    "### Import Packages"
   ]
  },
  {
   "cell_type": "code",
   "execution_count": null,
   "id": "0903f745",
   "metadata": {},
   "outputs": [],
   "source": [
    "import pandas as pd\n",
    "import numpy as np\n",
    "import matplotlib.pyplot as plt\n",
    "import scanpy as sc"
   ]
  },
  {
   "cell_type": "markdown",
   "id": "b47f7ef5",
   "metadata": {},
   "source": [
    "### Read in data tables with library pandas"
   ]
  },
  {
   "cell_type": "code",
   "execution_count": null,
   "id": "05e9079d",
   "metadata": {},
   "outputs": [],
   "source": [
    "folder = \"Data/\"\n",
    "tab = pd.read_csv(folder + \"aged_mice_samples.txt\", sep = \"\\t\")\n",
    "tab"
   ]
  },
  {
   "cell_type": "code",
   "execution_count": null,
   "id": "e1c219bd",
   "metadata": {},
   "outputs": [],
   "source": [
    "## Get an overview of columns and the data types stored in them\n",
    "tab.dtypes"
   ]
  },
  {
   "cell_type": "code",
   "execution_count": null,
   "id": "26de88bb",
   "metadata": {},
   "outputs": [],
   "source": [
    "## Get overview of numbers per group in a given column, e.g. age\n",
    "## you can access the column by its name using .loc[:, \"name_of_column\"]\n",
    "tab.loc[:, \"age\"].value_counts()"
   ]
  },
  {
   "cell_type": "code",
   "execution_count": null,
   "id": "1b4f6caa",
   "metadata": {},
   "outputs": [],
   "source": [
    "## You can also get quick summary statistics for numerical columns\n",
    "print(tab.loc[:, \"cells\"].mean())\n",
    "print(tab.loc[:, \"cells\"].sum())"
   ]
  },
  {
   "cell_type": "code",
   "execution_count": null,
   "id": "5ea908fa",
   "metadata": {},
   "outputs": [],
   "source": [
    "## You can also access columns by their index using .iloc\n",
    "tab.iloc[:, [3]]"
   ]
  },
  {
   "cell_type": "code",
   "execution_count": null,
   "id": "111c3708",
   "metadata": {},
   "outputs": [],
   "source": [
    "## Same for rows, you can add multiple indexes in the list\n",
    "tab.iloc[[2, 3, 5, 7]]"
   ]
  },
  {
   "cell_type": "code",
   "execution_count": null,
   "id": "cf42674f",
   "metadata": {},
   "outputs": [],
   "source": [
    "## Or a range with \":\", in the example below you see rows 2, 3, 4 and columns 0, 1, 2, 3\n",
    "tab.iloc[2:6, 0:4]"
   ]
  },
  {
   "cell_type": "code",
   "execution_count": null,
   "id": "32eddaab",
   "metadata": {},
   "outputs": [],
   "source": []
  },
  {
   "cell_type": "code",
   "execution_count": null,
   "id": "ddcc0e7c",
   "metadata": {},
   "outputs": [],
   "source": []
  }
 ],
 "metadata": {
  "kernelspec": {
   "display_name": "Python 3 (ipykernel)",
   "language": "python",
   "name": "python3"
  },
  "language_info": {
   "codemirror_mode": {
    "name": "ipython",
    "version": 3
   },
   "file_extension": ".py",
   "mimetype": "text/x-python",
   "name": "python",
   "nbconvert_exporter": "python",
   "pygments_lexer": "ipython3",
   "version": "3.8.10"
  }
 },
 "nbformat": 4,
 "nbformat_minor": 5
}
