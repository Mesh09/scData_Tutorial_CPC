{
 "cells": [
  {
   "cell_type": "markdown",
   "id": "a743cde2",
   "metadata": {},
   "source": [
    "### Tutorial - Introduction to scRNA-seq analysis using Scanpy\n",
    "This Tutorial was guided heavily by Malte Luecken's \"Best Practices\" Notebook. (PostDoc from TheisLab) <br>\n",
    "The original notebook can be found at https://github.com/theislab/single-cell-tutorial/blob/master/latest_notebook/Case-study_Mouse-intestinal-epithelium_1906.ipynb\n",
    "\n",
    "It is highly recommended to look at the Scanpy Documentation to see a more detailed explanation on the function and other parameters one can specifiy: <br>\n",
    "https://scanpy.readthedocs.io/en/stable/  "
   ]
  },
  {
   "cell_type": "markdown",
   "id": "bd3a0a7b",
   "metadata": {},
   "source": [
    "### Webtool to Longitudinal single cell transcriptomics:\n",
    "https://theislab.github.io/LungInjuryRegeneration/\n",
    "### Webtool to IPF Cell Atlas:\n",
    "http://www.ipfcellatlas.com/"
   ]
  },
  {
   "cell_type": "code",
   "execution_count": null,
   "id": "eb73eb7e",
   "metadata": {},
   "outputs": [],
   "source": [
    "## Import Libraries used in this script\n",
    "import numpy as np\n",
    "import matplotlib.pyplot as plt\n",
    "import scanpy as sc\n",
    "import pandas as pd\n",
    "import seaborn as sb\n",
    "\n",
    "import warnings\n",
    "warnings.filterwarnings(\"ignore\")\n",
    "\n",
    "## Define a nice colour map for gene expression\n",
    "from matplotlib import colors\n",
    "gray_red = colors.LinearSegmentedColormap.from_list(\"\", [\"lightgray\", \"red\", \"darkred\"], N = 128)\n",
    "\n",
    "sc.settings.figdir = \"Plots/\"\n",
    "sc.set_figure_params(vector_friendly = True)\n",
    "plt.rcParams.update({\"font.size\": 14})\n",
    "sb.set_style(\"ticks\")\n",
    "\n",
    "sc.logging.print_version_and_date()"
   ]
  },
  {
   "cell_type": "code",
   "execution_count": null,
   "id": "04a0c5f9",
   "metadata": {},
   "outputs": [],
   "source": [
    "adata = sc.read(\"Data/Aging_Tutorial.h5ad\")"
   ]
  },
  {
   "cell_type": "code",
   "execution_count": null,
   "id": "7938f1d2",
   "metadata": {
    "scrolled": true
   },
   "outputs": [],
   "source": [
    "adata"
   ]
  },
  {
   "cell_type": "code",
   "execution_count": null,
   "id": "e2de7963",
   "metadata": {
    "scrolled": true
   },
   "outputs": [],
   "source": [
    "adata.obs.head()"
   ]
  },
  {
   "cell_type": "code",
   "execution_count": null,
   "id": "f8bd0786",
   "metadata": {},
   "outputs": [],
   "source": [
    "adata.obs.cell_type.value_counts()"
   ]
  },
  {
   "cell_type": "code",
   "execution_count": null,
   "id": "55a3840e",
   "metadata": {},
   "outputs": [],
   "source": [
    "## See the first 10 gene names\n",
    "print(adata.var_names[0:10])\n",
    "\n",
    "## Show the first 10 cell ids\n",
    "print(adata.obs_names[0:10])\n",
    "\n",
    "## Show the expression values of the first 10 genes in the first 5 cells\n",
    "## adata objects store the expression matrix in .X layer (cells (rows) x genes (columns))\n",
    "adata.X[0:5, 0:10]"
   ]
  },
  {
   "cell_type": "code",
   "execution_count": null,
   "id": "be7a32a3",
   "metadata": {},
   "outputs": [],
   "source": [
    "## Show cell type numbers split by age\n",
    "pd.crosstab(adata.obs.age, adata.obs.cell_type)"
   ]
  },
  {
   "cell_type": "markdown",
   "id": "accepting-resistance",
   "metadata": {},
   "source": [
    "### Plot QC Metrics"
   ]
  },
  {
   "cell_type": "code",
   "execution_count": null,
   "id": "possible-public",
   "metadata": {},
   "outputs": [],
   "source": [
    "plt.rcParams['figure.figsize'] = (8, 6)\n",
    "sc.pl.violin(adata, \"n_counts\", groupby = \"identifier\", size = 1.5, rotation = 90)\n",
    "sc.pl.violin(adata, \"percent_mito\", groupby = \"identifier\", size = 1.5, rotation = 90)"
   ]
  },
  {
   "cell_type": "code",
   "execution_count": null,
   "id": "still-complex",
   "metadata": {},
   "outputs": [],
   "source": [
    "#Data quality summary plots\n",
    "plt.rcParams['figure.figsize'] = (6, 5)\n",
    "\n",
    "sc.pl.scatter(adata, \"n_counts\", \"n_genes\", color = \"identifier\", size = 8)\n",
    "\n",
    "## Zoom in to range\n",
    "sc.pl.scatter(adata[adata.obs[\"n_counts\"] < 8000],\"n_counts\",\"n_genes\", color = \"percent_mito\", size = 8)"
   ]
  },
  {
   "cell_type": "code",
   "execution_count": null,
   "id": "8b1a3a53",
   "metadata": {},
   "outputs": [],
   "source": [
    "fig, axs = plt.subplots(nrows = 1, ncols = 2, figsize = (12, 5))\n",
    "axs = axs.ravel()\n",
    "sb.distplot(adata.obs[\"n_genes\"], kde = False, ax = axs[0])\n",
    "sb.distplot(adata.obs[\"percent_mito\"], kde = False, ax = axs[1])\n",
    "plt.show()"
   ]
  },
  {
   "cell_type": "markdown",
   "id": "904d19ec",
   "metadata": {},
   "source": [
    "#### Raw counts are stored in adata.layers[\"counts\"]"
   ]
  },
  {
   "cell_type": "code",
   "execution_count": null,
   "id": "36ada462",
   "metadata": {},
   "outputs": [],
   "source": [
    "print(\"raw counts\\n\",  adata.layers[\"counts\"][0:5, 100:110].todense())"
   ]
  },
  {
   "cell_type": "markdown",
   "id": "72f11887",
   "metadata": {},
   "source": [
    "#### Normalized and log transformed counts are stored in adata.X \n",
    "These values are used in all of the visualisazions later on, e.g. UMAP, dotplot... "
   ]
  },
  {
   "cell_type": "code",
   "execution_count": null,
   "id": "11ace422",
   "metadata": {},
   "outputs": [],
   "source": [
    "print(\"processed Counts in X\\n\", adata.X[0:5, 100:110].todense())"
   ]
  },
  {
   "cell_type": "markdown",
   "id": "7cf12f4e",
   "metadata": {},
   "source": [
    "### In this object, the Principal components, k-nearest neighbor graph and UMAP are already calculated\n",
    "See entries \"X_pca\" and \"X_umap\" in obsm"
   ]
  },
  {
   "cell_type": "code",
   "execution_count": null,
   "id": "abe92b72",
   "metadata": {},
   "outputs": [],
   "source": [
    "adata"
   ]
  },
  {
   "cell_type": "markdown",
   "id": "6a043fc2",
   "metadata": {},
   "source": [
    "### UMAP as lower-dimensional representation of the data set\n",
    "Captures the global structure of the high dimensional data set, each dot represents a single cell which can be coloured by any annotation you have stored in adata.obs"
   ]
  },
  {
   "cell_type": "code",
   "execution_count": null,
   "id": "fc3d481e",
   "metadata": {},
   "outputs": [],
   "source": [
    "sc.pl.umap(adata, color = [\"age\", \"identifier\", \"cell_type\"], wspace = 0.25)"
   ]
  },
  {
   "cell_type": "markdown",
   "id": "1a37894a",
   "metadata": {},
   "source": [
    "#### You can also overlay the labels onto the embedding"
   ]
  },
  {
   "cell_type": "code",
   "execution_count": null,
   "id": "60de2cd5",
   "metadata": {},
   "outputs": [],
   "source": [
    "sc.pl.umap(adata, color = [\"leiden_1\"], legend_loc = \"on data\", legend_fontsize = 15)"
   ]
  },
  {
   "cell_type": "code",
   "execution_count": null,
   "id": "460fb97a",
   "metadata": {},
   "outputs": [],
   "source": [
    "sc.pl.umap(adata, color = [\"cell_type\"], legend_loc = \"on data\", legend_fontsize = 10)"
   ]
  },
  {
   "cell_type": "markdown",
   "id": "a4588bc5",
   "metadata": {},
   "source": [
    "### Save Plots\n",
    "You can save the plot by specifying the save Parameter"
   ]
  },
  {
   "cell_type": "code",
   "execution_count": null,
   "id": "41e83a08",
   "metadata": {},
   "outputs": [],
   "source": [
    "sc.pl.umap(adata, color = [\"cell_type\"], legend_loc = \"on data\", legend_fontsize = 10, save = \"_celltype.pdf\")"
   ]
  },
  {
   "cell_type": "code",
   "execution_count": null,
   "id": "6f37139b",
   "metadata": {
    "scrolled": true
   },
   "outputs": [],
   "source": [
    "sc.pl.umap(adata, color = [\"n_counts\", \"n_genes\", \"percent_mito\"], size = 20, cmap = \"viridis\")"
   ]
  },
  {
   "cell_type": "markdown",
   "id": "8951f64d",
   "metadata": {},
   "source": [
    "#### and show gene expression Feature plots by giving gene names in the color paramter"
   ]
  },
  {
   "cell_type": "code",
   "execution_count": null,
   "id": "c2b6cdbc",
   "metadata": {
    "scrolled": true
   },
   "outputs": [],
   "source": [
    "sc.pl.umap(adata, color = [\"Epcam\", \"Ptprc\", \"Col1a1\", \"Cldn5\"], cmap = gray_red, size = 30)"
   ]
  },
  {
   "cell_type": "markdown",
   "id": "373b5a33",
   "metadata": {},
   "source": [
    "#### Highlight certain labels by specifying them with groups"
   ]
  },
  {
   "cell_type": "code",
   "execution_count": null,
   "id": "6a16799c",
   "metadata": {},
   "outputs": [],
   "source": [
    "sc.pl.umap(adata, color = [\"age\"], groups = [\"3m\"], size = 20)"
   ]
  },
  {
   "cell_type": "markdown",
   "id": "36661a7d",
   "metadata": {},
   "source": [
    "#### and show only cells from young mice, and colour them by cell type or expression"
   ]
  },
  {
   "cell_type": "code",
   "execution_count": null,
   "id": "4acda152",
   "metadata": {},
   "outputs": [],
   "source": [
    "cells = adata.obs.age == \"3m\"\n",
    "sc.pl.umap(adata[cells], color = [\"Sftpc\", \"Ear2\", \"cell_type\"], cmap = gray_red, size = 20)"
   ]
  },
  {
   "cell_type": "markdown",
   "id": "8a7c7ee5",
   "metadata": {},
   "source": [
    "### Differential Gene Expression - All Markers Table"
   ]
  },
  {
   "cell_type": "code",
   "execution_count": null,
   "id": "013f331c",
   "metadata": {},
   "outputs": [],
   "source": [
    "## All Markers\n",
    "sc.tl.rank_genes_groups(adata, groupby = 'cell_type', use_raw = False, n_genes = 500,\n",
    "                        method = \"wilcoxon\", pts = True)"
   ]
  },
  {
   "cell_type": "code",
   "execution_count": null,
   "id": "47e41fa5",
   "metadata": {},
   "outputs": [],
   "source": [
    "## Combine into one Data Frame (comparable to Marker Table)\n",
    "result = adata.uns['rank_genes_groups']\n",
    "allMarkers = []\n",
    "for cluster in result['names'].dtype.names:\n",
    "    current = pd.DataFrame({\"gene\": result[\"names\"][cluster], \"score\": result[\"scores\"][cluster],\n",
    "                            \"logfoldchange\": result[\"logfoldchanges\"][cluster], \"pval\": result[\"pvals\"][cluster],\n",
    "                            \"pval_adj\": result[\"pvals_adj\"][cluster], \n",
    "                            \"pct_within\": result[\"pts\"].loc[result[\"names\"][cluster]][cluster],\n",
    "                            \"pct_outside\": result[\"pts_rest\"].loc[result[\"names\"][cluster]][cluster],\n",
    "                            \"cluster\": cluster})\n",
    "    allMarkers.append(current)\n",
    "allMarkers = pd.concat(allMarkers)\n",
    "allMarkers.head()"
   ]
  },
  {
   "cell_type": "code",
   "execution_count": null,
   "id": "e6c0f80b",
   "metadata": {},
   "outputs": [],
   "source": [
    "## Write to file\n",
    "allMarkers.to_csv(\"Data/AllMarkers_cell_type.txt\", sep = \"\\t\", index = False)"
   ]
  },
  {
   "cell_type": "code",
   "execution_count": null,
   "id": "772ac9ed",
   "metadata": {},
   "outputs": [],
   "source": [
    "## Find top Genes for a Cluster\n",
    "cluster = \"AT2 cells\"\n",
    "genes = allMarkers.loc[allMarkers[\"cluster\"] == cluster, \"gene\"].values\n",
    "\n",
    "sc.pl.umap(adata, color = genes[0:5], ncols = 5, color_map = gray_red)"
   ]
  },
  {
   "cell_type": "code",
   "execution_count": null,
   "id": "aa461a96",
   "metadata": {},
   "outputs": [],
   "source": [
    "cluster = \"B cells\"\n",
    "genes = allMarkers.loc[allMarkers[\"cluster\"] == cluster, \"gene\"].values\n",
    "\n",
    "sc.pl.umap(adata, color = genes[0:5], ncols = 5, color_map = gray_red)"
   ]
  },
  {
   "cell_type": "markdown",
   "id": "55ae9d76",
   "metadata": {},
   "source": [
    "### Marker Overview Plots"
   ]
  },
  {
   "cell_type": "code",
   "execution_count": null,
   "id": "c1d29ca9",
   "metadata": {},
   "outputs": [],
   "source": [
    "sc.pl.rank_genes_groups_dotplot(adata, n_genes = 5)"
   ]
  },
  {
   "cell_type": "code",
   "execution_count": null,
   "id": "63a8a230",
   "metadata": {},
   "outputs": [],
   "source": [
    "sc.pl.rank_genes_groups_matrixplot(adata, n_genes = 5, standard_scale = \"var\")"
   ]
  },
  {
   "cell_type": "code",
   "execution_count": null,
   "id": "7228c923",
   "metadata": {},
   "outputs": [],
   "source": [
    "sc.pl.rank_genes_groups_heatmap(adata, n_genes = 5, standard_scale = \"var\", cmap = \"viridis\")"
   ]
  },
  {
   "cell_type": "code",
   "execution_count": null,
   "id": "8bebcb87",
   "metadata": {},
   "outputs": [],
   "source": [
    "sc.pl.dotplot(adata, var_names = [\"Sftpc\", \"Sftpd\", \"Tppp3\", \"Foxj1\", \"Scgb3a1\", \"Scgb1a1\", \"Ager\", \"Rtkn2\", \"Krt5\"], \n",
    "              groupby = \"cell_type\", cmap = gray_red, dendrogram = True)"
   ]
  },
  {
   "cell_type": "code",
   "execution_count": null,
   "id": "7c32827d",
   "metadata": {},
   "outputs": [],
   "source": [
    "sc.pl.matrixplot(adata, groupby = \"cell_type\", cmap = \"rocket\", dendrogram = True, standard_scale = \"var\",\n",
    "                 var_names = [\"Sftpc\", \"Sftpd\", \"Tppp3\", \"Foxj1\", \"Scgb3a1\", \"Scgb1a1\",\"Ager\",\"Rtkn2\",\"Krt5\"])"
   ]
  },
  {
   "cell_type": "markdown",
   "id": "219e3e94",
   "metadata": {},
   "source": [
    "### Re-cluster the object"
   ]
  },
  {
   "cell_type": "code",
   "execution_count": null,
   "id": "e2800d18",
   "metadata": {},
   "outputs": [],
   "source": [
    "sc.tl.leiden(adata, resolution = 2, key_added = \"leiden_2\")\n",
    "sc.pl.umap(adata, color = [\"leiden_1\", \"leiden_2\"], legend_loc = \"on data\", legend_fontsize = 15)"
   ]
  },
  {
   "cell_type": "markdown",
   "id": "73e23721",
   "metadata": {},
   "source": [
    "There are some subtypes of the endothelial compartment, which can not be easily resolved at this level\n",
    "- General Capillary Marker: Edn1, Gpihbp1\n",
    "- Lymphatic endothelial Marker: Prox1, Mmrn1, Maf"
   ]
  },
  {
   "cell_type": "code",
   "execution_count": null,
   "id": "bdc50f81",
   "metadata": {},
   "outputs": [],
   "source": [
    "sc.pl.umap(adata, color = [\"Edn1\", \"Gpihbp1\", \"Prox1\", \"Mmrn1\"], cmap = gray_red, size = 30)"
   ]
  },
  {
   "cell_type": "markdown",
   "id": "2c3d2201",
   "metadata": {},
   "source": [
    "### Generate a subset"
   ]
  },
  {
   "cell_type": "code",
   "execution_count": null,
   "id": "92d0fb03",
   "metadata": {},
   "outputs": [],
   "source": [
    "subset = adata[adata.obs.leiden_1.isin([\"5\"])].copy()\n",
    "sc.pl.umap(subset, color = [\"age\", \"leiden_1\"])"
   ]
  },
  {
   "cell_type": "markdown",
   "id": "c0cf54b5",
   "metadata": {},
   "source": [
    "We can highlight the heterogeneity in this subset by re-calculating the Principal components and the neighbourhood graph, to give more weight to genes that distinguish potential endothelial subtypes (rather than those that distinguish endothelial cells from other cell types in the lung)"
   ]
  },
  {
   "cell_type": "code",
   "execution_count": null,
   "id": "16679acb",
   "metadata": {},
   "outputs": [],
   "source": [
    "## Recalculate PCA\n",
    "sc.pp.pca(subset, n_comps = 50, use_highly_variable = True)"
   ]
  },
  {
   "cell_type": "code",
   "execution_count": null,
   "id": "f7eb0776",
   "metadata": {},
   "outputs": [],
   "source": [
    "## Recalculate k nearest neighbor graph\n",
    "## Here you can adjust the Parameters n_pcs (how many PCs are being used) n_neighbors (size of a cell’s neighborhood)\n",
    "sc.pp.neighbors(subset, n_pcs = 10, n_neighbors = 10)\n",
    "sc.tl.umap(subset)"
   ]
  },
  {
   "cell_type": "code",
   "execution_count": null,
   "id": "35d82c21",
   "metadata": {},
   "outputs": [],
   "source": [
    "sc.pl.umap(subset, color = [\"age\", \"Edn1\", \"Gpihbp1\", \"Prox1\", \"Mmrn1\"], ncols = 5, cmap = gray_red)"
   ]
  },
  {
   "cell_type": "markdown",
   "id": "acbc261e",
   "metadata": {},
   "source": [
    "You can then run a new clustering on this subset as well"
   ]
  },
  {
   "cell_type": "code",
   "execution_count": null,
   "id": "9585c0cd",
   "metadata": {},
   "outputs": [],
   "source": [
    "sc.tl.leiden(subset, resolution = 1, key_added = \"sub_cluster\")\n",
    "sc.pl.umap(subset, color = [\"sub_cluster\"], legend_loc = \"on data\")"
   ]
  },
  {
   "cell_type": "code",
   "execution_count": null,
   "id": "9909d1fa",
   "metadata": {},
   "outputs": [],
   "source": [
    "## you can even list more or less annotations in this dictionary\n",
    "celltype_map = {\"8\": \"Lymphatic EC\", \"2\": \"gCap\", \"3\": \"gCap\", \"5\": \"gCap\", \"1\": \"gCap\", \"0\": \"gCap\",\n",
    "                \"6\": \"gCap\", \"10\": \"gCap\", \"4\": \"gCap\", \"7\": \"gCap\", \"9\": \"gCap\"}\n",
    "\n",
    "subset.obs[\"cell_type\"] = [celltype_map[leiden] if leiden in celltype_map.keys() else leiden\n",
    "                           for leiden in subset.obs.sub_cluster]"
   ]
  },
  {
   "cell_type": "code",
   "execution_count": null,
   "id": "8f498ace",
   "metadata": {},
   "outputs": [],
   "source": [
    "sc.pl.umap(subset, color = [\"cell_type\"], legend_loc = \"on data\", legend_fontsize = 10)"
   ]
  },
  {
   "cell_type": "markdown",
   "id": "6c96b8f0",
   "metadata": {},
   "source": [
    "Transfer these more fine-grained labels back to the whole lung object"
   ]
  },
  {
   "cell_type": "code",
   "execution_count": null,
   "id": "fc8b75b7",
   "metadata": {},
   "outputs": [],
   "source": [
    "## This will only work if both the whole lung and subset column have the same name, here \"cell_type\"\n",
    "adata.obs.update(subset.obs.cell_type)\n",
    "sc.pl.umap(adata, color = [\"cell_type\"])"
   ]
  },
  {
   "cell_type": "markdown",
   "id": "d5f2c70e",
   "metadata": {},
   "source": [
    "### Finally: save object"
   ]
  },
  {
   "cell_type": "code",
   "execution_count": null,
   "id": "bfb0552f",
   "metadata": {},
   "outputs": [],
   "source": [
    "subset"
   ]
  },
  {
   "cell_type": "code",
   "execution_count": null,
   "id": "b1f33b30",
   "metadata": {},
   "outputs": [],
   "source": [
    "subset.write(\"Data/endothelial_subset.h5ad\")"
   ]
  },
  {
   "cell_type": "code",
   "execution_count": null,
   "id": "0406f4fa",
   "metadata": {},
   "outputs": [],
   "source": []
  },
  {
   "cell_type": "code",
   "execution_count": null,
   "id": "8450f802",
   "metadata": {},
   "outputs": [],
   "source": []
  }
 ],
 "metadata": {
  "kernelspec": {
   "display_name": "Python 3 (ipykernel)",
   "language": "python",
   "name": "python3"
  },
  "language_info": {
   "codemirror_mode": {
    "name": "ipython",
    "version": 3
   },
   "file_extension": ".py",
   "mimetype": "text/x-python",
   "name": "python",
   "nbconvert_exporter": "python",
   "pygments_lexer": "ipython3",
   "version": "3.8.10"
  }
 },
 "nbformat": 4,
 "nbformat_minor": 5
}
